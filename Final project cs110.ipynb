{
 "cells": [
  {
   "cell_type": "code",
   "execution_count": 1,
   "metadata": {},
   "outputs": [],
   "source": [
    "class User:\n",
    "    def __init__(self,name,rhythm,versatility, \n",
    "                 percussion,finger_picking, \n",
    "                 strumming):\n",
    "        self.name = name\n",
    "        self.rhythm  = rhythm \n",
    "        self.versatility = versatility \n",
    "        self.percussion  = percussion\n",
    "        self.finger_picking = finger_picking\n",
    "        self.strumming = strumming\n",
    "        \n",
    "    def __repr__(self):\n",
    "        return f'{self.name} with a skill rating of {self.get_skill()}'\n",
    "    \n",
    "    def get_skill(self):\n",
    "        ov = self.rhythm+self.versatility+self.percussion+self.finger_picking+self.strumming\n",
    "        return ov/5 #generating a rough estimate of overall skill"
   ]
  },
  {
   "cell_type": "code",
   "execution_count": 2,
   "metadata": {},
   "outputs": [],
   "source": [
    "class Song: \n",
    "    def __init__(self, title, artist, \n",
    "                 rhythm,versatility, \n",
    "                 percussion,finger_picking, \n",
    "                 strumming, genre): \n",
    "        self.title = title\n",
    "        self.artist = artist\n",
    "        self.rhythm  = rhythm \n",
    "        self.versatility = versatility \n",
    "        self.percussion  = percussion\n",
    "        self.finger_picking = finger_picking\n",
    "        self.strumming = strumming\n",
    "        self.genre = genre\n",
    "        \n",
    "    def __repr__(self):\n",
    "        return f'{self.title} by {self.artist} with a difficulty rating of {self.get_diff()}'\n",
    "    \n",
    "    def get_diff(self):\n",
    "        ov = self.rhythm+self.versatility+self.percussion+self.finger_picking+self.strumming\n",
    "        return ov/5 #generating a rough estimate of overall difficulty"
   ]
  },
  {
   "cell_type": "code",
   "execution_count": 3,
   "metadata": {},
   "outputs": [],
   "source": [
    "def next_song(users,user_name,attribute,songs):\n",
    "    cur_user = None\n",
    "    for u in users:\n",
    "        if u.name == user_name:\n",
    "            cur_user = u\n",
    "    \n",
    "    return find_song(cur_user,attribute,songs)\n",
    "\n",
    "def find_user(lst,user_name):   \n",
    "    for u in lst:\n",
    "        if u.name == user_name:\n",
    "            return lst.index(u) \n",
    "    \n",
    "def by_attribute(songs, attribute):\n",
    "    x = sorted(songs, key = lambda r: vars(r)[attribute])\n",
    "    return x\n",
    "    \n",
    "def find_song(user,attribute,songs):\n",
    "    ats = ['rhythm','versatility','percussion',\n",
    "                  'finger_picking','strumming']\n",
    "    songs_now = []\n",
    "    for song in songs:\n",
    "        ind = 0 #setting flaw count\n",
    "        for a in ats:\n",
    "            if a == attribute:#if selected attribute\n",
    "                if vars(song)[a] > vars(user)[a]:\n",
    "                    #making sure that the selected song is of \n",
    "                    #desired difficulty for improvement\n",
    "                    continue\n",
    "                else:\n",
    "                    ind +=1\n",
    "            else:\n",
    "                if vars(song)[a] <= vars(user)[a]:\n",
    "                    continue\n",
    "                else:\n",
    "                    ind += 1\n",
    "        #print(ind)\n",
    "        if ind == 0:#checking if any flaws for the song\n",
    "            songs_now.append(song)\n",
    "        #print(songs_now)\n",
    "    if len(songs_now) == 0:\n",
    "        print(\"Sorry, we don't have any songs that fit your skill level right now.\")\n",
    "    elif len(songs_now) == 1:\n",
    "        return songs_now[0]\n",
    "    else:\n",
    "        mid = len(songs)//2\n",
    "        return select(songs_now,mid,attribute)"
   ]
  },
  {
   "cell_type": "code",
   "execution_count": 4,
   "metadata": {},
   "outputs": [],
   "source": [
    "import random as ran\n",
    "def select(songs,median,attribute):\n",
    "    if len(songs) == 1:\n",
    "        return songs[0]\n",
    "    #base case - shouldn't happen based on find_song\n",
    "    else:#we parition and recursively call select on part of the array\n",
    "        part_songs = partition(songs,attribute,ran.randrange(len(songs)))\n",
    "        #randomized partitioning\n",
    "        songs = part_songs[0]\n",
    "        a2 = part_songs[1]\n",
    "        #setting points\n",
    "        if a2 == median:\n",
    "            return songs[a2]\n",
    "            #if found\n",
    "        elif a2 > median:#greater than recursion\n",
    "            return select(songs[:a2],median, attribute)\n",
    "        else:#less than recursion\n",
    "            median = median - a2 - 1\n",
    "            return select(songs[(a2+1):], median, attribute)\n",
    "\n",
    "def partition(songs,attribute,pivot):\n",
    "    i = 0\n",
    "    if pivot != 0: \n",
    "        songs[0],songs[pivot] = songs[pivot],songs[0]\n",
    "    for j in range(len(songs)-1):\n",
    "        \n",
    "        if vars(songs[j+1])[attribute] < vars(songs[0])[attribute]:\n",
    "            #comparing the level for the selected attribute\n",
    "            songs[j+1],songs[i+1] = songs[i+1],songs[j+1]\n",
    "            i += 1 #incrementing index\n",
    "            \n",
    "    songs[0],songs[i] = songs[i],songs[0]\n",
    "    \n",
    "    return songs,i #partitioning gives us the index for our song"
   ]
  },
  {
   "cell_type": "code",
   "execution_count": 5,
   "metadata": {},
   "outputs": [],
   "source": [
    "def add_song(lst,title,artist, \n",
    "                 rhythm,versatility, \n",
    "                 percussion,finger_picking, \n",
    "                 strumming, genre):\n",
    "    \n",
    "    lst.append(Song(title, artist, \n",
    "                 rhythm,versatility, \n",
    "                 percussion,finger_picking, \n",
    "                 strumming, genre))\n",
    "def add_user(lst,name,rhythm,versatility, \n",
    "                 percussion,finger_picking, \n",
    "                 strumming):\n",
    "    \n",
    "    lst.append(User(name, \n",
    "                 rhythm,versatility, \n",
    "                 percussion,finger_picking, \n",
    "                 strumming))"
   ]
  },
  {
   "cell_type": "code",
   "execution_count": 6,
   "metadata": {},
   "outputs": [],
   "source": [
    "songs = []\n",
    "genres = ['blues','jazz','rock','pop',\n",
    "          'latin','funk','disco','alternative',\n",
    "          'hip hop','rap','country']\n",
    "\n",
    "import csv\n",
    "with open(\"songs!.csv\") as csv_file:\n",
    "\n",
    "    csv_reader = csv.reader(csv_file, delimiter=',')\n",
    "    line = 0\n",
    "    #reading the csv downloaded from spotify and translating\n",
    "    #into objects of Song class\n",
    "    for row in csv_reader:\n",
    "        r = ran.random()\n",
    "        if line == 0:\n",
    "            line += 1\n",
    "        elif r <= 0.5:#too much data so randomly use half(ish)\n",
    "            line += 1\n",
    "        else:#assigning random values\n",
    "            line += 1\n",
    "            title = str(row[1])\n",
    "            artist = str(row[2])\n",
    "            rhythm = ran.randrange(11)\n",
    "            versatility = ran.randrange(11)\n",
    "            percussion = ran.randrange(11)\n",
    "            finger_picking = ran.randrange(11)\n",
    "            strumming = ran.randrange(11)\n",
    "            genre = genres[ran.randrange(len(genres))]\n",
    "                  \n",
    "            add_song(songs,title,artist, \n",
    "             rhythm,versatility, \n",
    "             percussion,finger_picking, \n",
    "             strumming, genre)"
   ]
  },
  {
   "cell_type": "code",
   "execution_count": 8,
   "metadata": {},
   "outputs": [],
   "source": [
    "users = []    \n",
    "with open(\"names.csv\") as csv_file2:\n",
    "    #list of names creating users\n",
    "    csv_reader2 = csv.reader(csv_file2, delimiter=',')\n",
    "    line2 = 0\n",
    "    for row in csv_reader2:\n",
    "        if line2 == 0:\n",
    "            line2 += 1\n",
    "        else:\n",
    "            line += 1\n",
    "            name = str(row[0])\n",
    "            rhythm = ran.randrange(11)\n",
    "            versatility = ran.randrange(11)\n",
    "            percussion = ran.randrange(11)\n",
    "            finger_picking = ran.randrange(11)\n",
    "            strumming = ran.randrange(11)\n",
    "                  \n",
    "            add_user(users,name, \n",
    "             rhythm,versatility, \n",
    "             percussion,finger_picking, \n",
    "             strumming)"
   ]
  },
  {
   "cell_type": "code",
   "execution_count": 9,
   "metadata": {},
   "outputs": [],
   "source": [
    "def sign_up(users):\n",
    "    \n",
    "    print('What is your name?')\n",
    "    name = input()\n",
    "    print('Please indicate your approximate level on a scale from 1 to 10 for these aspects of guitar:')\n",
    "    print('Rhythm');r = int(input())\n",
    "    print('Percussion');p = int(input())\n",
    "    print('Finger Picking');fp = int(input())\n",
    "    print('Strumming');s = int(input())\n",
    "    print('How versatile are you?');v = int(input())\n",
    "    \n",
    "    add_user(users,name,r,v,p,fp,s)\n",
    "    \n",
    "    return \"You're all set to find the song you should practice next!\""
   ]
  },
  {
   "cell_type": "code",
   "execution_count": 10,
   "metadata": {},
   "outputs": [],
   "source": [
    "ats = ['rhythm','versatility','percussion',\n",
    "                  'finger_picking','strumming']\n",
    "import time\n",
    "def time_test(n,songs,ats):\n",
    "    times = []\n",
    "    for u in range(n):\n",
    "        user = users[u]\n",
    "        name = user.name\n",
    "        attribute = ats[ran.randrange(1,len(ats))]\n",
    "        #random testing attribute\n",
    "        start = time.time()\n",
    "        next_song(users,name,attribute,songs)#timing\n",
    "        speed = time.time() - start\n",
    "        times.append(speed)#time list\n",
    "    return sum(times)/n #average time"
   ]
  },
  {
   "cell_type": "code",
   "execution_count": null,
   "metadata": {},
   "outputs": [],
   "source": [
    "import matplotlib.pyplot as plt\n",
    "import numpy as np\n",
    "\n",
    "def song_test(n,ats):\n",
    "    song_list = songs[0:n]\n",
    "    tim = time_test(10,song_list,ats)\n",
    "    return tim\n",
    "\n",
    "times1 = []\n",
    "i_s = []\n",
    "for i in range(12000,25000,200):\n",
    "    i_s.append(i)\n",
    "    times1.append(song_test(i,ats))"
   ]
  },
  {
   "cell_type": "code",
   "execution_count": 12,
   "metadata": {},
   "outputs": [
    {
     "name": "stdout",
     "output_type": "stream",
     "text": [
      "y=0.000005x -0.028434\n"
     ]
    },
    {
     "data": {
      "image/png": "[encoded data removed]",
      "text/plain": [
       "<Figure size 432x288 with 1 Axes>"
      ]
     },
     "metadata": {
      "needs_background": "light"
     },
     "output_type": "display_data"
    }
   ],
   "source": [
    "plt.plot(i_s,times1,color = \"blue\")\n",
    "plt.xlabel(\"Number of songs in the list\")\n",
    "plt.ylabel(\"Time taken to find next song\")\n",
    "z = np.polyfit(i_s, times1, 1)\n",
    "p = np.poly1d(z) #finding regression line\n",
    "plt.plot(i_s,p(i_s),\"-\",color = \"red\")\n",
    "# the line equation:\n",
    "print(\"y=%.6fx %.6f\"%(z[0],z[1]))\n",
    "import matplotlib.patches as m\n",
    "time = m.Patch(color='blue', label='Time')\n",
    "line = m.Patch(color='red', label = 'Trend')\n",
    "plt.legend(handles=[time, line])#legend\n",
    "plt.show()"
   ]
  },
  {
   "cell_type": "code",
   "execution_count": 13,
   "metadata": {},
   "outputs": [
    {
     "data": {
      "text/plain": [
       "When I Was Your Man by Bruno Mars with a difficulty rating of 4.8"
      ]
     },
     "execution_count": 13,
     "metadata": {},
     "output_type": "execute_result"
    }
   ],
   "source": [
    "next_song(users,'Olive','strumming',songs)"
   ]
  },
  {
   "cell_type": "markdown",
   "metadata": {},
   "source": [
    "Interestingly enough, I had Olive try the functionality out and she was suggested a song that I have performed in India. Also, it was a song I really had to practice my strumming for - randomization is my friend today!"
   ]
  },
  {
   "cell_type": "code",
   "execution_count": 21,
   "metadata": {},
   "outputs": [],
   "source": [
    "######DEMO######\n",
    "fav_songs = []\n",
    "the_user = []\n",
    "add_user(the_user,'Newbie',1,1,1,1,1)"
   ]
  },
  {
   "cell_type": "code",
   "execution_count": null,
   "metadata": {},
   "outputs": [],
   "source": [
    "add_song(fav_songs,'Cyclone','Sticky Fingers',3,3,1,4,4,'Alternative')\n",
    "add_song(fav_songs,'Follow You to Virgie','Tyler Childers',2,3,1,4,3, 'Country')\n",
    "add_song(fav_songs,'Hey ya!','Obadiah Parker (Orinally Outkast)',3,2,1,2,4,'Folk')\n",
    "add_song(fav_songs,'Wish You Were Here','Pink Floyd',4,4,1,4,5,'Rock')\n",
    "add_song(fav_songs,'7','Catfish and the Bottlemen',4,4,1,2,6,'Rock')\n",
    "add_song(fav_songs,'Read My Mind','The Killers',3,3,1,2,4,'Alternative')\n",
    "add_song(fav_songs,'Feeling Whitney','Post Malone',4,4,1,4,1,'Folk')\n",
    "add_song(fav_songs,\"Ain't No Sunshine\",'Bill Withers',3,4,2,5,2,'Soul')\n",
    "add_song(fav_songs,\"Stay\",'Post Malone',3,3,1,3,4,'Folk')\n",
    "add_song(fav_songs,'Into the Sky','Wes Whelan',2,2,1,2,4,'Folk')\n",
    "for i in fav_songs:\n",
    "    print(i)"
   ]
  }
 ],
 "metadata": {
  "kernelspec": {
   "display_name": "Python 3",
   "language": "python",
   "name": "python3"
  },
  "language_info": {
   "codemirror_mode": {
    "name": "ipython",
    "version": 3
   },
   "file_extension": ".py",
   "mimetype": "text/x-python",
   "name": "python",
   "nbconvert_exporter": "python",
   "pygments_lexer": "ipython3",
   "version": "3.7.1"
  }
 },
 "nbformat": 4,
 "nbformat_minor": 2
}
